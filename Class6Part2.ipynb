{
 "cells": [
  {
   "cell_type": "markdown",
   "id": "7d3613be-da83-4b16-9280-2f61ba62cd3e",
   "metadata": {},
   "source": [
    "# Use ChatGPT to create a test program\n",
    "Go to ChatGPT.com # sign in if required\n",
    "\n",
    "Enter the prompt"
   ]
  },
  {
   "cell_type": "raw",
   "id": "5b0aea1f-853f-4ff9-9086-9888e4d825c9",
   "metadata": {},
   "source": [
    "Write a python script to run in a Jupyter notebook that takes a list of fabric names, looks for images of that fabric on line and downloads the best match for each fabric then prints an image of the fabric followed by it's name and link to the image source."
   ]
  },
  {
   "cell_type": "markdown",
   "id": "fd0913bd-088c-4ecd-ad18-bb7832e223ec",
   "metadata": {},
   "source": [
    "This gave me a program that required a **Bing Key**. so I asked:"
   ]
  },
  {
   "cell_type": "raw",
   "id": "95fea91d-fb9e-488a-9512-be5ccc50ffda",
   "metadata": {},
   "source": [
    "Why are you using bing can you search directly?"
   ]
  },
  {
   "cell_type": "markdown",
   "id": "9c098297-8e5b-42e4-89bd-7daad1c66186",
   "metadata": {},
   "source": [
    "# ChatGPT produced the following"
   ]
  },
  {
   "cell_type": "code",
   "execution_count": null,
   "id": "c46a3789-1d7c-4172-835f-7a112493b889",
   "metadata": {},
   "outputs": [],
   "source": [
    "!pip install requests beautifulsoup4 pillow"
   ]
  },
  {
   "cell_type": "code",
   "execution_count": null,
   "id": "33f523c3-6b45-4a56-a95d-3a7889211850",
   "metadata": {},
   "outputs": [],
   "source": [
    "import os\n",
    "import requests\n",
    "from bs4 import BeautifulSoup\n",
    "from PIL import Image\n",
    "from IPython.display import display, HTML\n",
    "from io import BytesIO\n",
    "import urllib.parse\n",
    "\n",
    "# List of fabric names\n",
    "fabric_names = [\n",
    "    \"Pollack Apollo Mica\",\n",
    "    \"Astoria Sunset 56095-0000\",\n",
    "    \"SONOMA STRIPE SUNSET ROSE\",\n",
    "    \"Innovations Wallpaper Company Alon ALO-02 Ebb\"\n",
    "]\n",
    "\n",
    "# Directory to save images\n",
    "os.makedirs(\"fabric_images\", exist_ok=True)\n",
    "\n",
    "def fetch_image_url(query):\n",
    "    headers = {\n",
    "        \"User-Agent\": \"Mozilla/5.0\"\n",
    "    }\n",
    "    search_url = f\"https://www.google.com/search?tbm=isch&q={urllib.parse.quote(query)}\"\n",
    "    response = requests.get(search_url, headers=headers)\n",
    "    soup = BeautifulSoup(response.text, \"html.parser\")\n",
    "    images = soup.find_all(\"img\")\n",
    "    for img in images:\n",
    "        src = img.get(\"src\")\n",
    "        if src and src.startswith(\"http\"):\n",
    "            return src\n",
    "    return None\n",
    "\n",
    "def download_image(url, fabric_name):\n",
    "    response = requests.get(url)\n",
    "    image = Image.open(BytesIO(response.content))\n",
    "    filename = os.path.join(\"fabric_images\", f\"{fabric_name.replace(' ', '_')}.jpg\")\n",
    "    image.save(filename)\n",
    "    return filename\n",
    "\n",
    "for fabric in fabric_names:\n",
    "    print(f\"Processing: {fabric}\")\n",
    "    image_url = fetch_image_url(fabric)\n",
    "    if image_url:\n",
    "        print(f\"Found image URL: {image_url}\")\n",
    "        image_path = download_image(image_url, fabric)\n",
    "        display(Image.open(image_path))\n",
    "        display(HTML(f\"<b>{fabric}</b><br><a href='{image_url}' target='_blank'>{image_url}</a><br><br>\"))\n",
    "    else:\n",
    "        print(f\"No image found for {fabric}\")"
   ]
  },
  {
   "cell_type": "markdown",
   "id": "3732837e-9036-45a8-a8d4-0950eb109235",
   "metadata": {},
   "source": [
    "⚠️ **Important Notes**\n",
    "* **Respect Website Terms**: Web scraping can violate the terms of service of websites. Ensure you have permission to scrape and download images from the target site.SerpApi\n",
    "* **Google Image Search**: Scraping Google Images may lead to your IP being temporarily blocked. Use with caution and consider implementing delays between requests.\n",
    "* **Alternative Sources**: For more reliable and permissible image scraping, consider using websites that offer free images with open licenses, such as Pixabay or Unsplash.\n",
    "\n",
    "If you need assistance modifying this script to use a specific image source or to handle more complex scenarios, feel free to ask!"
   ]
  },
  {
   "cell_type": "code",
   "execution_count": null,
   "id": "bbaec493-304a-40fc-aa2a-d9b54073c1ce",
   "metadata": {},
   "outputs": [],
   "source": []
  }
 ],
 "metadata": {
  "kernelspec": {
   "display_name": "Python (jupyter)",
   "language": "python",
   "name": "jupyter"
  },
  "language_info": {
   "codemirror_mode": {
    "name": "ipython",
    "version": 3
   },
   "file_extension": ".py",
   "mimetype": "text/x-python",
   "name": "python",
   "nbconvert_exporter": "python",
   "pygments_lexer": "ipython3",
   "version": "3.13.5"
  }
 },
 "nbformat": 4,
 "nbformat_minor": 5
}
