{
 "cells": [
  {
   "cell_type": "markdown",
   "id": "54b256a5-40e4-43bb-b58d-4088549ff194",
   "metadata": {},
   "source": [
    "<img src=\"https://tukuz.com/wp-content/uploads/2021/06/oregon-institute-of-technology-logo-vector.png\" width=\"200\" height=\"40\" style=\"float: right; padding: 0.5em;\">\n",
    "<h1><center>Lecture Week 6</center></h1>\n",
    "<p><center>Wilfred Pinfold</center></p>"
   ]
  },
  {
   "cell_type": "markdown",
   "id": "a3a4532d-5873-4421-a3ee-f08cb0460a2f",
   "metadata": {},
   "source": [
    "# Problem\n",
    "* Design Company conducts design reviews of materials for a project by pulling swatches and samples onto the floor and seeing how they work together.\n",
    "* They document this process with cell phone photos\n",
    "* A junior designer then spends a day pulling information from labels and using this information to create a design catalog for that project.\n",
    "* The design firm does this regularly and wonders in AI can help them speed up the process. \n",
    "* They sent three sample images"
   ]
  },
  {
   "cell_type": "markdown",
   "id": "b1340c1f-568c-477b-a365-f9ded7286085",
   "metadata": {},
   "source": [
    "# Three Sample Images\n",
    "<img src=\"images/250513 LDK Back.jpg\" style=\"height:300px;\"> <img src=\"images/IMG_4795.jpeg\" style=\"height:300px;\"> <img src=\"images/IMG_4797.jpeg\" style=\"height:300px;\">"
   ]
  },
  {
   "cell_type": "markdown",
   "id": "2e06b155-387a-44fb-8215-3242ae9f3b60",
   "metadata": {},
   "source": [
    "# ChatGPT\n",
    "* [Sign up with your Microsoft Account](https://chatgpt.com/). If you want take the tour.\n",
    "* Get to the prompt “What are you working on?”"
   ]
  },
  {
   "cell_type": "markdown",
   "id": "a47986f6-cc16-4857-a357-5cefa59a7c83",
   "metadata": {},
   "source": [
    "# Lets Test Something\n",
    "\n",
    "Enter the following request into ChatGPT and add the first image\n",
    "\n",
    "**Find all the fabric names in this image**\n",
    "\n",
    "<img src=\"images/250513 LDK Back.jpg\" style=\"height:200px;\">"
   ]
  },
  {
   "cell_type": "markdown",
   "id": "04f6d428-e479-4af8-97c9-5cf7e03ee6c6",
   "metadata": {},
   "source": [
    "<img src=\"images/ChatGPT1.jpg\" width=\"1000\">"
   ]
  },
  {
   "cell_type": "code",
   "execution_count": null,
   "id": "e1d5fdb9-3407-4007-8580-218d6d4d6738",
   "metadata": {},
   "outputs": [],
   "source": []
  }
 ],
 "metadata": {
  "kernelspec": {
   "display_name": "Python 3 (ipykernel)",
   "language": "python",
   "name": "python3"
  },
  "language_info": {
   "codemirror_mode": {
    "name": "ipython",
    "version": 3
   },
   "file_extension": ".py",
   "mimetype": "text/x-python",
   "name": "python",
   "nbconvert_exporter": "python",
   "pygments_lexer": "ipython3",
   "version": "3.13.5"
  }
 },
 "nbformat": 4,
 "nbformat_minor": 5
}
