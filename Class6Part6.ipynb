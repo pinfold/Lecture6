{
 "cells": [
  {
   "cell_type": "markdown",
   "id": "84637e94-ec7e-4077-9467-be214669d1ed",
   "metadata": {},
   "source": [
    "# The most important part of this lecture and possibly the course is the Methodology\n",
    "AI Tools like ChatGPT make it possible to program in the english language with limitations. Those limitations are rapidly decreasing."
   ]
  },
  {
   "cell_type": "markdown",
   "id": "229c30bc-cbad-4430-86c6-be7dd8f5dee3",
   "metadata": {},
   "source": [
    "But remember AI tools still have serious deficiencies\n",
    "\n",
    "<img src=\"images/Pitfalls.jpg\" width=\"1000\">\n",
    "\n",
    "Along with the **Superpower to Encyclopedic Information Retention** current AI engines have deficiencies like **Hallucination, Dumb Errors, Brain Wipe, Gullibility**"
   ]
  },
  {
   "cell_type": "markdown",
   "id": "8d79cf38-6b47-4536-ba85-c5b5ea53cec4",
   "metadata": {},
   "source": [
    "If you can partner with an AI engine to solve problems in an efficient and effective workflow you will be well ahead of your coligues.\n",
    "\n",
    "<img src=\"images/Workflow.jpg\" width=\"1000\">"
   ]
  },
  {
   "cell_type": "code",
   "execution_count": null,
   "id": "b8460ec1-9bff-4a49-89f2-3d820ba929be",
   "metadata": {},
   "outputs": [],
   "source": []
  }
 ],
 "metadata": {
  "kernelspec": {
   "display_name": "Python (jupyter)",
   "language": "python",
   "name": "jupyter"
  },
  "language_info": {
   "codemirror_mode": {
    "name": "ipython",
    "version": 3
   },
   "file_extension": ".py",
   "mimetype": "text/x-python",
   "name": "python",
   "nbconvert_exporter": "python",
   "pygments_lexer": "ipython3",
   "version": "3.13.5"
  }
 },
 "nbformat": 4,
 "nbformat_minor": 5
}
